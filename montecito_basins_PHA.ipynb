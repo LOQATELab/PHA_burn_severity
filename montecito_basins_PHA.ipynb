{
 "cells": [
  {
   "cell_type": "code",
   "execution_count": 13,
   "id": "6365d188",
   "metadata": {},
   "outputs": [
    {
     "name": "stdout",
     "output_type": "stream",
     "text": [
      "packages loaded\n"
     ]
    }
   ],
   "source": [
    "# LOAD PACKAGES\n",
    "\n",
    "import matplotlib.pyplot as plt\n",
    "import numpy as np\n",
    "from numpy import asarray\n",
    "import rioxarray as rxr\n",
    "import shapely as sp\n",
    "from shapely.geometry import Point\n",
    "import geopandas as gpd\n",
    "import xarray as xr\n",
    "import pandas as pd\n",
    "import glob\n",
    "import os\n",
    "import fnmatch\n",
    "import math\n",
    "from math import e\n",
    "from osgeo import gdal \n",
    "print(\"packages loaded\")"
   ]
  },
  {
   "cell_type": "code",
   "execution_count": 38,
   "id": "d211e9a4",
   "metadata": {},
   "outputs": [
    {
     "name": "stdout",
     "output_type": "stream",
     "text": [
      "/mnt/nfs/lss/meerdink/home/skzebarth/masters/output/19384_dnbr.tif\n",
      "/mnt/nfs/lss/meerdink/home/skzebarth/masters/basin_data/x_values.csv\n"
     ]
    }
   ],
   "source": [
    "# SET DIRECTORIES\n",
    "\n",
    "# Set basin directory\n",
    "dnbr_basins = '/mnt/nfs/lss/meerdink/home/skzebarth/masters/output/19384_dnbr.tif'\n",
    "#print(os.listdir(dnbr_basins))\n",
    "print(dnbr_basins)\n",
    "# Set x_value directory\n",
    "x_values = '/mnt/nfs/lss/meerdink/home/skzebarth/masters/basin_data/x_values.csv'\n",
    "print(x_values)\n",
    "df = pd.read_csv(x_values)"
   ]
  },
  {
   "cell_type": "code",
   "execution_count": 28,
   "id": "d62d6529",
   "metadata": {},
   "outputs": [
    {
     "name": "stdout",
     "output_type": "stream",
     "text": [
      "<xarray.DataArray (band: 1, y: 193, x: 177)>\n",
      "[34161 values with dtype=float32]\n",
      "Coordinates:\n",
      "  * band         (band) int64 1\n",
      "  * x            (x) float64 2.576e+05 2.576e+05 ... 2.611e+05 2.612e+05\n",
      "  * y            (y) float64 3.819e+06 3.819e+06 ... 3.815e+06 3.815e+06\n",
      "    spatial_ref  int64 0\n",
      "Attributes:\n",
      "    AREA_OR_POINT:  Area\n",
      "    scale_factor:   1.0\n",
      "    add_offset:     0.0\n",
      "<xarray.DataArray ()>\n",
      "array(0.54550487, dtype=float32)\n",
      "Coordinates:\n",
      "    spatial_ref  int64 0\n"
     ]
    }
   ],
   "source": [
    "b19384 = rxr.open_rasterio(dnbr_basins, masked=True)\n",
    "print(b19384)\n",
    "clip_stats = np.mean(b19384)\n",
    "print(clip_stats)"
   ]
  },
  {
   "cell_type": "code",
   "execution_count": 34,
   "id": "f5382ac1",
   "metadata": {},
   "outputs": [],
   "source": [
    "# BASIN AVERAGE CALCULATION\n",
    "\n",
    "x_1 = 0.684325\n",
    "x_2 = clip_stats\n",
    "x_3 = 0.139364"
   ]
  },
  {
   "cell_type": "code",
   "execution_count": 35,
   "id": "5b10fa2f",
   "metadata": {},
   "outputs": [],
   "source": [
    "# LINK FUNCTION\n",
    "\n",
    "# Coefficients for Southern California\n",
    "b = -3.63\n",
    "b_1 = 0.41\n",
    "b_2 = 0.67\n",
    "b_3 = 0.7\n",
    "\n",
    "# Rainfall for design storm (12mm, 16mm, 20mm, 24mm, 28mm 32mm, 36mm, 40mm)\n",
    "#R = 3\n",
    "#R = 4\n",
    "#R = 5\n",
    "R = 6\n",
    "#R = 7\n",
    "#R = 8\n",
    "#R = 9\n",
    "#R = 10\n",
    "\n",
    "\n",
    "x =  b + (b_1 * x_1 * R) + (b_2 * x_2 * R) + (b_3 * x_3 * R)"
   ]
  },
  {
   "cell_type": "code",
   "execution_count": 36,
   "id": "39f15688",
   "metadata": {},
   "outputs": [
    {
     "name": "stdout",
     "output_type": "stream",
     "text": [
      "<xarray.DataArray ()>\n",
      "array(0.69671382)\n",
      "Coordinates:\n",
      "    spatial_ref  int64 0\n"
     ]
    }
   ],
   "source": [
    "# PROBABILITY CALCULATION\n",
    "prob = (e ** x) / (1 + e** x)\n",
    "print(prob)"
   ]
  },
  {
   "cell_type": "code",
   "execution_count": null,
   "id": "680004c6",
   "metadata": {},
   "outputs": [],
   "source": []
  }
 ],
 "metadata": {
  "kernelspec": {
   "display_name": "Python 3 (ipykernel)",
   "language": "python",
   "name": "python3"
  },
  "language_info": {
   "codemirror_mode": {
    "name": "ipython",
    "version": 3
   },
   "file_extension": ".py",
   "mimetype": "text/x-python",
   "name": "python",
   "nbconvert_exporter": "python",
   "pygments_lexer": "ipython3",
   "version": "3.11.0"
  }
 },
 "nbformat": 4,
 "nbformat_minor": 5
}

{
 "cells": [
  {
   "cell_type": "code",
   "execution_count": 22,
   "id": "bfd44888",
   "metadata": {},
   "outputs": [],
   "source": [
    "import geopandas as gpd\n",
    "import xarray as xr\n",
    "import numpy as np\n",
    "import rioxarray as rxr\n",
    "import os\n",
    "from math import e\n",
    "import matplotlib.pyplot as plt\n",
    "import pandas as pd\n",
    "import rasterio as rio\n",
    "from scipy.stats import gaussian_kde"
   ]
  },
  {
   "cell_type": "code",
   "execution_count": 41,
   "id": "1558f83b",
   "metadata": {},
   "outputs": [
    {
     "name": "stdout",
     "output_type": "stream",
     "text": [
      "EPSG:32611\n",
      "Index(['BASIN_ID', 'Shape_Leng', 'Shape_Area', 'Segment_ID', 'Acc_Cl',\n",
      "       'Perim_Buff', 'InsidePeri', 'OutsidePer', 'Fire_ID', 'Fire_Segme',\n",
      "       'L_X1', 'L_X2', 'L_X3', 'V_X1', 'V_X2', 'Shape_Le_1', 'R', 'V_X3', 'X',\n",
      "       'ExpX', 'P', 'PCl', 'PCl_Legend', 'LnV', 'Volume', 'VolMin', 'VolMax',\n",
      "       'VolCl', 'VolCl_Lege', 'CombHaz', 'CombHazCl', 'CombHazCl_',\n",
      "       'Mean_dNBR', 'Med_dNBR', 'PF_dNBR', 'geometry'],\n",
      "      dtype='object')\n"
     ]
    }
   ],
   "source": [
    "# Load M1 design storm subset to montecito basins. \n",
    "out = r'/Volumes/PhD/imagery/masters/output/hyper_compare/'\n",
    "m1_basins = gpd.read_file(r'/Volumes/PhD/imagery/masters/QGIS/M1_design_storm_subset.shp')\n",
    "m1_basins = m1_basins.to_crs(epsg=32611)\n",
    "print(m1_basins.crs)\n",
    "#m1_basins\n",
    "print(m1_basins.columns)"
   ]
  },
  {
   "cell_type": "code",
   "execution_count": null,
   "id": "7916e59a",
   "metadata": {},
   "outputs": [
    {
     "name": "stdout",
     "output_type": "stream",
     "text": [
      "EPSG:32611\n"
     ]
    }
   ],
   "source": [
    "# Read in HdNBR & HdNBRI rasters.\n",
    "# Naming convention is backwards, will be flipped in code (i.e., INPUT - idealized == S2 bands, OUTPUT - idealized == AVIRIS specific bands)\n",
    "\n",
    "\n",
    "idealized_bands = r'/Volumes/PhD/imagery/masters/hyper/dnbr_aviris_warp.dat' \n",
    "\n",
    "S2_bands = r'/Volumes/PhD/imagery/masters/hyper/S2/AVIRIS_dNBR_idealized_t2'\n",
    "\n",
    "#idealized_bands = rxr.open_rasterio(idealized_bands, masked=True)\n",
    "idealized_bands = rxr.open_rasterio(idealized_bands, masked=True)\n",
    "S2_bands = rxr.open_rasterio(S2_bands, masked=True)\n",
    "print(s.rio.crs)\n",
    "\n",
    "\n"
   ]
  },
  {
   "cell_type": "code",
   "execution_count": 32,
   "id": "31e16271",
   "metadata": {},
   "outputs": [],
   "source": [
    "# clip to basin, and add mean, med, PF to m1 basins.\n",
    "basin_list = []\n",
    "mean_list = []\n",
    "median_list = []\n",
    "peak_frequency_list = []\n",
    "i_mean_list = []\n",
    "i_median_list = []\n",
    "i_peak_frequency_list = []\n",
    "\n",
    "for idx, basin in m1_basins.iterrows():\n",
    "    iclipped = idealized_bands.rio.clip([basin.geometry], idealized_bands.rio.crs, drop=True)\n",
    "    clipped = S2_bands.rio.clip([basin.geometry], S2_bands.rio.crs, drop=True)\n",
    "\n",
    "    # Gather basic stats & basin id\n",
    "    \n",
    "    basin_list.append(basin['BASIN_ID'])\n",
    "    mean_value = np.nanmean(clipped)\n",
    "    median_value = np.nanmedian(clipped)\n",
    "\n",
    "    imean_value = np.nanmean(iclipped)\n",
    "    imedian_value = np.nanmedian(iclipped)\n",
    "\n",
    "    mean_list.append(mean_value)\n",
    "    median_list.append(median_value)\n",
    "    i_mean_list.append(imean_value)\n",
    "    i_median_list.append(imedian_value)\n",
    "\n",
    "    # Gather kde peak frequency for both clipped and iclipped\n",
    "  \n",
    "    x = clipped.values.flatten()\n",
    "    x = x[~np.isnan(x)]  \n",
    "    \n",
    "    kde = gaussian_kde(x)  # Fit KDE to non-NaN values\n",
    "\n",
    "    # Define a grid of values for evaluation\n",
    "    x_grid = np.linspace(x.min(), x.max(), 1000)\n",
    "\n",
    "    # Evaluate KDE on the grid\n",
    "    kde_values = kde(x_grid)\n",
    "\n",
    "    # Find the peak value\n",
    "    peak_index = kde_values.argmax() \n",
    "    peak_frequency = x_grid[peak_index]\n",
    "\n",
    "    y = iclipped.values.flatten()\n",
    "    y = y[~np.isnan(y)]  # Remove NaN values\n",
    "    \n",
    "    ikde = gaussian_kde(y)  # Fit KDE to non-NaN values\n",
    "\n",
    "    # Define a grid of values for evaluation\n",
    "    y_grid = np.linspace(y.min(), y.max(), 1000)\n",
    "\n",
    "    # Evaluate KDE on the grid\n",
    "    ikde_values = kde(y_grid)\n",
    "\n",
    "    # Find the peak value\n",
    "    ipeak_index = ikde_values.argmax() \n",
    "    ipeak_frequency = y_grid[ipeak_index]\n",
    "\n",
    "    peak_frequency_list.append(peak_frequency)\n",
    "    i_peak_frequency_list.append(ipeak_frequency)\n",
    "    \n"
   ]
  },
  {
   "cell_type": "code",
   "execution_count": 48,
   "id": "cdbd1228",
   "metadata": {},
   "outputs": [
    {
     "name": "stderr",
     "output_type": "stream",
     "text": [
      "/var/folders/mm/sjj0b1k91z39pkxfzn0rj_1h0000gn/T/ipykernel_73474/3212865372.py:8: UserWarning: Column names longer than 10 characters will be truncated when saved to ESRI Shapefile.\n",
      "  m1_basins.to_file(out + 'M1_basins_dNBR_stats.shp')\n",
      "/Users/samueltaylor/Documents/GitHub/PHA_burn_severity/.venv/lib/python3.9/site-packages/pyogrio/raw.py:723: RuntimeWarning: Normalized/laundered field name: 'iHMean_dNBR' to 'iHMean_dNB'\n",
      "  ogr_write(\n"
     ]
    }
   ],
   "source": [
    "m1_basins[\"HMean_dNBR\"] = mean_list\n",
    "m1_basins[\"HMed_dNBR\"] = median_list\n",
    "m1_basins[\"HPF_dNBR\"] = peak_frequency_list\n",
    "m1_basins[\"iHMean_dNBR\"] = i_mean_list\n",
    "m1_basins[\"iHMed_dNBR\"] = i_median_list\n",
    "m1_basins[\"iHPF_dNBR\"] = i_peak_frequency_list\n",
    "# Save to shapefile\n",
    "m1_basins.to_file(out + 'M1_basins_dNBR_stats.shp')\n"
   ]
  },
  {
   "cell_type": "code",
   "execution_count": 49,
   "id": "fa5c5f92",
   "metadata": {},
   "outputs": [
    {
     "name": "stdout",
     "output_type": "stream",
     "text": [
      "Index(['BASIN_ID', 'Shape_Leng', 'Shape_Area', 'Segment_ID', 'Acc_Cl',\n",
      "       'Perim_Buff', 'InsidePeri', 'OutsidePer', 'Fire_ID', 'Fire_Segme',\n",
      "       'L_X1', 'L_X2', 'L_X3', 'V_X1', 'V_X2', 'Shape_Le_1', 'R', 'V_X3', 'X',\n",
      "       'ExpX', 'P', 'PCl', 'PCl_Legend', 'LnV', 'Volume', 'VolMin', 'VolMax',\n",
      "       'VolCl', 'VolCl_Lege', 'CombHaz', 'CombHazCl', 'CombHazCl_',\n",
      "       'Mean_dNBR', 'Med_dNBR', 'PF_dNBR', 'HMean_dNBR', 'HMed_dNBR',\n",
      "       'HPF_dNBR', 'iHMean_dNB', 'iHMed_dNBR', 'iHPF_dNBR', 'geometry'],\n",
      "      dtype='object')\n"
     ]
    }
   ],
   "source": [
    "test = gpd.read_file(r'/Volumes/PhD/imagery/masters/output/hyper_compare/M1_basins_dNBR_stats.shp')\n",
    "print(test.columns)\n"
   ]
  },
  {
   "cell_type": "code",
   "execution_count": null,
   "id": "4e6a5446",
   "metadata": {},
   "outputs": [],
   "source": []
  }
 ],
 "metadata": {
  "kernelspec": {
   "display_name": ".venv",
   "language": "python",
   "name": "python3"
  },
  "language_info": {
   "codemirror_mode": {
    "name": "ipython",
    "version": 3
   },
   "file_extension": ".py",
   "mimetype": "text/x-python",
   "name": "python",
   "nbconvert_exporter": "python",
   "pygments_lexer": "ipython3",
   "version": "3.9.6"
  }
 },
 "nbformat": 4,
 "nbformat_minor": 5
}

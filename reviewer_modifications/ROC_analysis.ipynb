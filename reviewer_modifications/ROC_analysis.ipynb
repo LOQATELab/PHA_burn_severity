{
 "cells": [
  {
   "cell_type": "code",
   "execution_count": 11,
   "metadata": {},
   "outputs": [],
   "source": [
    "import geopandas as gpd\n",
    "import pandas as pd"
   ]
  },
  {
   "cell_type": "code",
   "execution_count": 6,
   "metadata": {},
   "outputs": [
    {
     "data": {
      "text/plain": [
       "Index(['BASIN_ID', 'Shape_Leng', 'Shape_Area', 'Segment_ID', 'Acc_Cl',\n",
       "       'Perim_Buff', 'InsidePeri', 'OutsidePer', 'Fire_ID', 'Fire_Segme',\n",
       "       'L_X1', 'L_X2', 'L_X3', 'V_X1', 'V_X2', 'Shape_Le_1', 'R', 'V_X3', 'X',\n",
       "       'ExpX', 'P', 'PCl', 'PCl_Legend', 'LnV', 'Volume', 'VolMin', 'VolMax',\n",
       "       'VolCl', 'VolCl_Lege', 'CombHaz', 'CombHazCl', 'CombHazCl_', 'area',\n",
       "       'Field', 'ROC', 'nearest_st', 'distance_t', 'RI_index', 'RI',\n",
       "       'Mean_dNBR', 'Med_dNBR', 'PF_dNBR', 'M1P_Mean', 'M1P_Med', 'M1p_PF',\n",
       "       'geometry'],\n",
       "      dtype='object')"
      ]
     },
     "execution_count": 6,
     "metadata": {},
     "output_type": "execute_result"
    }
   ],
   "source": [
    "ROC_m1 = r'/Volumes/PhD/imagery/masters/ROC/M1_CT_ROC.shp'\n",
    "ROC_m1 = gpd.read_file(ROC_m1)\n",
    "ROC_m1.columns\n"
   ]
  },
  {
   "cell_type": "code",
   "execution_count": 12,
   "metadata": {},
   "outputs": [],
   "source": [
    "ROC_df = {\n",
    "    'BASIN_ID': ROC_m1['BASIN_ID'],\n",
    "    'M1P_Mean': ROC_m1['M1P_Mean'],\n",
    "    'M1P_Med': ROC_m1['M1P_Med'],\n",
    "    'M1P_PF': ROC_m1['M1p_PF'],\n",
    "    'RI': ROC_m1['RI'],\n",
    "    'Old_ROC': ROC_m1['Field']\n",
    "}\n",
    "ROC_df = pd.DataFrame(ROC_df)"
   ]
  },
  {
   "cell_type": "code",
   "execution_count": 13,
   "metadata": {},
   "outputs": [
    {
     "data": {
      "text/html": [
       "<div>\n",
       "<style scoped>\n",
       "    .dataframe tbody tr th:only-of-type {\n",
       "        vertical-align: middle;\n",
       "    }\n",
       "\n",
       "    .dataframe tbody tr th {\n",
       "        vertical-align: top;\n",
       "    }\n",
       "\n",
       "    .dataframe thead th {\n",
       "        text-align: right;\n",
       "    }\n",
       "</style>\n",
       "<table border=\"1\" class=\"dataframe\">\n",
       "  <thead>\n",
       "    <tr style=\"text-align: right;\">\n",
       "      <th></th>\n",
       "      <th>BASIN_ID</th>\n",
       "      <th>M1P_Mean</th>\n",
       "      <th>M1P_Med</th>\n",
       "      <th>M1P_PF</th>\n",
       "      <th>RI</th>\n",
       "      <th>Old_ROC</th>\n",
       "    </tr>\n",
       "  </thead>\n",
       "  <tbody>\n",
       "    <tr>\n",
       "      <th>0</th>\n",
       "      <td>17499</td>\n",
       "      <td>0.449618</td>\n",
       "      <td>0.454098</td>\n",
       "      <td>0.438860</td>\n",
       "      <td>5.08</td>\n",
       "      <td>1</td>\n",
       "    </tr>\n",
       "    <tr>\n",
       "      <th>1</th>\n",
       "      <td>3115</td>\n",
       "      <td>0.148129</td>\n",
       "      <td>0.116710</td>\n",
       "      <td>0.101142</td>\n",
       "      <td>7.11</td>\n",
       "      <td>4</td>\n",
       "    </tr>\n",
       "    <tr>\n",
       "      <th>2</th>\n",
       "      <td>3589</td>\n",
       "      <td>0.301476</td>\n",
       "      <td>0.164258</td>\n",
       "      <td>0.122691</td>\n",
       "      <td>7.11</td>\n",
       "      <td>4</td>\n",
       "    </tr>\n",
       "    <tr>\n",
       "      <th>3</th>\n",
       "      <td>5683</td>\n",
       "      <td>0.999180</td>\n",
       "      <td>0.999251</td>\n",
       "      <td>0.999382</td>\n",
       "      <td>12.95</td>\n",
       "      <td>4</td>\n",
       "    </tr>\n",
       "    <tr>\n",
       "      <th>4</th>\n",
       "      <td>5920</td>\n",
       "      <td>0.848432</td>\n",
       "      <td>0.870989</td>\n",
       "      <td>0.910869</td>\n",
       "      <td>6.10</td>\n",
       "      <td>4</td>\n",
       "    </tr>\n",
       "    <tr>\n",
       "      <th>...</th>\n",
       "      <td>...</td>\n",
       "      <td>...</td>\n",
       "      <td>...</td>\n",
       "      <td>...</td>\n",
       "      <td>...</td>\n",
       "      <td>...</td>\n",
       "    </tr>\n",
       "    <tr>\n",
       "      <th>732</th>\n",
       "      <td>15065</td>\n",
       "      <td>0.313190</td>\n",
       "      <td>0.248063</td>\n",
       "      <td>0.189564</td>\n",
       "      <td>9.14</td>\n",
       "      <td>0</td>\n",
       "    </tr>\n",
       "    <tr>\n",
       "      <th>733</th>\n",
       "      <td>35852</td>\n",
       "      <td>0.473049</td>\n",
       "      <td>0.466838</td>\n",
       "      <td>0.444912</td>\n",
       "      <td>7.37</td>\n",
       "      <td>0</td>\n",
       "    </tr>\n",
       "    <tr>\n",
       "      <th>734</th>\n",
       "      <td>36553</td>\n",
       "      <td>0.468316</td>\n",
       "      <td>0.457159</td>\n",
       "      <td>0.448097</td>\n",
       "      <td>7.37</td>\n",
       "      <td>0</td>\n",
       "    </tr>\n",
       "    <tr>\n",
       "      <th>735</th>\n",
       "      <td>36955</td>\n",
       "      <td>0.281668</td>\n",
       "      <td>0.274903</td>\n",
       "      <td>0.249830</td>\n",
       "      <td>7.37</td>\n",
       "      <td>0</td>\n",
       "    </tr>\n",
       "    <tr>\n",
       "      <th>736</th>\n",
       "      <td>37056</td>\n",
       "      <td>0.380218</td>\n",
       "      <td>0.402390</td>\n",
       "      <td>0.464637</td>\n",
       "      <td>7.37</td>\n",
       "      <td>0</td>\n",
       "    </tr>\n",
       "  </tbody>\n",
       "</table>\n",
       "<p>737 rows × 6 columns</p>\n",
       "</div>"
      ],
      "text/plain": [
       "     BASIN_ID  M1P_Mean   M1P_Med    M1P_PF     RI  Old_ROC\n",
       "0       17499  0.449618  0.454098  0.438860   5.08        1\n",
       "1        3115  0.148129  0.116710  0.101142   7.11        4\n",
       "2        3589  0.301476  0.164258  0.122691   7.11        4\n",
       "3        5683  0.999180  0.999251  0.999382  12.95        4\n",
       "4        5920  0.848432  0.870989  0.910869   6.10        4\n",
       "..        ...       ...       ...       ...    ...      ...\n",
       "732     15065  0.313190  0.248063  0.189564   9.14        0\n",
       "733     35852  0.473049  0.466838  0.444912   7.37        0\n",
       "734     36553  0.468316  0.457159  0.448097   7.37        0\n",
       "735     36955  0.281668  0.274903  0.249830   7.37        0\n",
       "736     37056  0.380218  0.402390  0.464637   7.37        0\n",
       "\n",
       "[737 rows x 6 columns]"
      ]
     },
     "execution_count": 13,
     "metadata": {},
     "output_type": "execute_result"
    }
   ],
   "source": [
    "ROC_df"
   ]
  },
  {
   "cell_type": "code",
   "execution_count": 18,
   "metadata": {},
   "outputs": [],
   "source": [
    "ROC_df['New_ROC'] = ROC_df['M1P_Mean'].apply(lambda x: 1 if x > 0.5 else 0)\n",
    "ROC_df['ROC_Med'] = ROC_df['M1P_Med'].apply(lambda x: 1 if x > 0.5 else 0)\n",
    "ROC_df['ROC_PF'] = ROC_df['M1P_PF'].apply(lambda x: 1 if x > 0.5 else 0)"
   ]
  },
  {
   "cell_type": "code",
   "execution_count": 20,
   "metadata": {},
   "outputs": [],
   "source": [
    "ROC_df.to_csv(r'/Volumes/PhD/imagery/masters/ROC/M1_CT.csv')\n"
   ]
  },
  {
   "cell_type": "code",
   "execution_count": null,
   "metadata": {},
   "outputs": [],
   "source": []
  }
 ],
 "metadata": {
  "kernelspec": {
   "display_name": ".venv",
   "language": "python",
   "name": "python3"
  },
  "language_info": {
   "codemirror_mode": {
    "name": "ipython",
    "version": 3
   },
   "file_extension": ".py",
   "mimetype": "text/x-python",
   "name": "python",
   "nbconvert_exporter": "python",
   "pygments_lexer": "ipython3",
   "version": "3.9.6"
  }
 },
 "nbformat": 4,
 "nbformat_minor": 2
}

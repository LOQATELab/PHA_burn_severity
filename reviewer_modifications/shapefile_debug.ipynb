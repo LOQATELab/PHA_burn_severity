{
 "cells": [
  {
   "cell_type": "code",
   "execution_count": 1,
   "metadata": {},
   "outputs": [],
   "source": [
    "import rasterio as rio\n",
    "import rioxarray as rxr\n",
    "import geopandas as gpd\n",
    "import matplotlib.pyplot as plt\n",
    "from shapely.geometry import MultiPolygon\n",
    "from rasterio.mask import mask\n",
    "import numpy as np\n",
    "import os\n",
    "thomas_fire_bs = r'D:/imagery/masters/output/S2_tf_dNBR.tif'\n",
    "thomas_fire_shp = r'D:/imagery/masters/baer/thm2017_Basin_DFPredictions_15min_12mmh.shp'\n",
    "\n",
    "output_directory = r'D:/imagery/masters/output/'\n"
   ]
  },
  {
   "cell_type": "code",
   "execution_count": 2,
   "metadata": {},
   "outputs": [
    {
     "name": "stdout",
     "output_type": "stream",
     "text": [
      "['BASIN_ID', 'Shape_Leng', 'Shape_Area', 'Segment_ID', 'Acc_Cl', 'Perim_Buff', 'InsidePeri', 'OutsidePer', 'Fire_ID', 'Fire_Segme', 'L_X1', 'L_X2', 'L_X3', 'V_X1', 'V_X2', 'Shape_Le_1', 'R', 'V_X3', 'X', 'ExpX', 'P', 'PCl', 'PCl_Legend', 'LnV', 'Volume', 'VolMin', 'VolMax', 'VolCl', 'VolCl_Lege', 'CombHaz', 'CombHazCl', 'CombHazCl_', 'geometry']\n"
     ]
    }
   ],
   "source": [
    "shape = gpd.read_file(thomas_fire_shp)\n",
    "#print(shape)\n",
    "#shape\n",
    "print(shape.columns.tolist())\n"
   ]
  },
  {
   "cell_type": "code",
   "execution_count": 3,
   "metadata": {},
   "outputs": [],
   "source": [
    "with rio.open(thomas_fire_bs) as src:\n",
    "    for idx, row in shape.iterrows():\n",
    "        basin_id = row['BASIN_ID']\n",
    "        geom = [row['geometry']]\n",
    "\n",
    "        #Grab individual basin X values.\n",
    "        X1 = row['L_X1']\n",
    "        X2 = row['L_X2']\n",
    "        X3 = row['L_X3']\n",
    "        \n",
    "        out_image, out_transform = mask(src, geom, crop=True)\n",
    "        out_meta = src.meta.copy()\n",
    "        out_meta.update({\n",
    "            \"driver\": \"GTiff\",\n",
    "            \"height\": out_image.shape[1],\n",
    "            \"width\": out_image.shape[2],\n",
    "            \"transform\": out_transform,\n",
    "            \"crs\": src.crs,\n",
    "            \"nodata\": np.nan\n",
    "        })\n",
    "\n",
    "        out_image = np.where(out_image == 0, np.nan, out_image)\n",
    "\n",
    "        out_tif_path = os.path.join(output_directory + f'basin_{basin_id}_dNBR.tif')\n",
    "        with rio.open(out_tif_path, \"w\", **out_meta) as dest:\n",
    "            dest.write(out_image)\n",
    "            dest.update_tags(X1=str(X1), X2=str(X2), X3=str(X3))\n",
    "        "
   ]
  },
  {
   "cell_type": "code",
   "execution_count": null,
   "metadata": {},
   "outputs": [],
   "source": []
  }
 ],
 "metadata": {
  "kernelspec": {
   "display_name": "Python 3",
   "language": "python",
   "name": "python3"
  },
  "language_info": {
   "codemirror_mode": {
    "name": "ipython",
    "version": 3
   },
   "file_extension": ".py",
   "mimetype": "text/x-python",
   "name": "python",
   "nbconvert_exporter": "python",
   "pygments_lexer": "ipython3",
   "version": "3.12.4"
  }
 },
 "nbformat": 4,
 "nbformat_minor": 2
}

{
 "cells": [
  {
   "cell_type": "code",
   "execution_count": 13,
   "metadata": {},
   "outputs": [],
   "source": [
    "import rasterio as rio\n",
    "import rioxarray as rxr\n",
    "import geopandas as gpd\n",
    "import matplotlib.pyplot as plt\n",
    "from shapely.geometry import MultiPolygon\n",
    "thomas_fire_bs = r'D:/imagery/masters/output/S2_tf_dNBR.tif'\n",
    "thomas_fire_shp = r'D:/imagery/masters/baer/thm2017_Basin_DFPredictions_15min_12mmh.shp'\n"
   ]
  },
  {
   "cell_type": "code",
   "execution_count": 14,
   "metadata": {},
   "outputs": [
    {
     "name": "stdout",
     "output_type": "stream",
     "text": [
      "      BASIN_ID  Shape_Leng    Shape_Area  Segment_ID  Acc_Cl  Perim_Buff  \\\n",
      "0          123     16060.0  6.322700e+06         123     1.0          10   \n",
      "1          155      3140.0  2.716000e+05         155     1.0          10   \n",
      "2          167      1800.0  7.260000e+04         167     1.0          10   \n",
      "3          172      2720.0  2.340000e+05         172     1.0          10   \n",
      "4          184      1540.0  4.900000e+04         184     1.0          10   \n",
      "...        ...         ...           ...         ...     ...         ...   \n",
      "1731     44218      2880.0  2.577000e+05       44218     1.0          10   \n",
      "1732     44238      6260.0  8.933000e+05       44238     1.0          10   \n",
      "1733     44256      1140.0  3.360000e+04       44256     1.0          10   \n",
      "1734     44320      3020.0  1.722000e+05       44320     1.0          10   \n",
      "1735     44339      7960.0  1.424200e+06       44339     1.0          10   \n",
      "\n",
      "      InsidePeri  OutsidePer  Fire_ID     Fire_Segme  ...       LnV  \\\n",
      "0              0           0  thm2017    thm2017_123  ...  7.914866   \n",
      "1            101          12  thm2017    thm2017_155  ...  6.581891   \n",
      "2            100          11  thm2017    thm2017_167  ...  5.739199   \n",
      "3            101          12  thm2017    thm2017_172  ...  6.488784   \n",
      "4            100          11  thm2017    thm2017_184  ...  5.767228   \n",
      "...          ...         ...      ...            ...  ...       ...   \n",
      "1731         100          11  thm2017  thm2017_44218  ...  5.021984   \n",
      "1732         100           0  thm2017  thm2017_44238  ...  6.020633   \n",
      "1733         100          11  thm2017  thm2017_44256  ...  4.657088   \n",
      "1734           0           0  thm2017  thm2017_44320  ...  6.623063   \n",
      "1735           0           0  thm2017  thm2017_44339  ...  7.831262   \n",
      "\n",
      "           Volume      VolMin        VolMax  VolCl    VolCl_Lege  CombHaz  \\\n",
      "0     2737.680940  342.019061  21913.681981      2  1,000-10,000        3   \n",
      "1      721.903266   90.187528   5778.452255      1        <1,000        2   \n",
      "2      310.815233   38.830213   2487.910872      1        <1,000        2   \n",
      "3      657.722803   82.169449   5264.721728      1        <1,000        2   \n",
      "4      319.650282   39.933978   2558.630747      1        <1,000        3   \n",
      "...           ...         ...           ...    ...           ...      ...   \n",
      "1731   151.711970   18.953409   1214.373749      1        <1,000        2   \n",
      "1732   411.839137   51.451151   3296.553573      1        <1,000        2   \n",
      "1733   105.328933   13.158766    843.102171      1        <1,000        2   \n",
      "1734   752.245422   93.978180   6021.325097      1        <1,000        3   \n",
      "1735  2518.105636  314.587471  20156.098283      2  1,000-10,000        3   \n",
      "\n",
      "      CombHazCl  CombHazCl_                                           geometry  \n",
      "0             1         Low  POLYGON ((278199.84 3833189.559, 278169.84 383...  \n",
      "1             1         Low  POLYGON ((278489.84 3833309.559, 278529.84 383...  \n",
      "2             1         Low  MULTIPOLYGON (((279989.84 3833209.559, 279989....  \n",
      "3             1         Low  MULTIPOLYGON (((279679.84 3833339.559, 279679....  \n",
      "4             1         Low  MULTIPOLYGON (((280029.84 3833179.559, 280029....  \n",
      "...         ...         ...                                                ...  \n",
      "1731          1         Low  POLYGON ((294409.84 3796499.559, 294409.84 379...  \n",
      "1732          1         Low  POLYGON ((297999.84 3797049.559, 297999.84 379...  \n",
      "1733          1         Low  MULTIPOLYGON (((298689.84 3796789.559, 298699....  \n",
      "1734          1         Low  POLYGON ((289169.84 3796289.559, 289169.84 379...  \n",
      "1735          1         Low  POLYGON ((289339.84 3796009.559, 289339.84 379...  \n",
      "\n",
      "[1736 rows x 33 columns]\n"
     ]
    }
   ],
   "source": [
    "shape = gpd.read_file(thomas_fire_shp)\n",
    "print(shape)\n",
    "fire = rxr.open_rasterio(thomas_fire_bs)"
   ]
  },
  {
   "cell_type": "code",
   "execution_count": 17,
   "metadata": {},
   "outputs": [
    {
     "name": "stderr",
     "output_type": "stream",
     "text": [
      "d:\\Code\\PHA_burn_severity\\.conda\\Lib\\site-packages\\rasterio\\features.py:328: ShapeSkipWarning: Invalid or empty shape type at index 0 will not be rasterized.\n",
      "  warnings.warn('Invalid or empty shape {} at index {} will not be rasterized.'.format(geom, index), ShapeSkipWarning)\n",
      "d:\\Code\\PHA_burn_severity\\.conda\\Lib\\site-packages\\rasterio\\features.py:328: ShapeSkipWarning: Invalid or empty shape coordinates at index 1 will not be rasterized.\n",
      "  warnings.warn('Invalid or empty shape {} at index {} will not be rasterized.'.format(geom, index), ShapeSkipWarning)\n"
     ]
    },
    {
     "ename": "ValueError",
     "evalue": "No valid geometry objects found for rasterize",
     "output_type": "error",
     "traceback": [
      "\u001b[1;31m---------------------------------------------------------------------------\u001b[0m",
      "\u001b[1;31mValueError\u001b[0m                                Traceback (most recent call last)",
      "Cell \u001b[1;32mIn[17], line 4\u001b[0m\n\u001b[0;32m      2\u001b[0m basin_id \u001b[38;5;241m=\u001b[39m row[\u001b[38;5;124m'\u001b[39m\u001b[38;5;124mBASIN_ID\u001b[39m\u001b[38;5;124m'\u001b[39m]\n\u001b[0;32m      3\u001b[0m geometry \u001b[38;5;241m=\u001b[39m row[\u001b[38;5;124m'\u001b[39m\u001b[38;5;124mgeometry\u001b[39m\u001b[38;5;124m'\u001b[39m]\n\u001b[1;32m----> 4\u001b[0m basin_dNBR \u001b[38;5;241m=\u001b[39m \u001b[43mfire\u001b[49m\u001b[38;5;241;43m.\u001b[39;49m\u001b[43mrio\u001b[49m\u001b[38;5;241;43m.\u001b[39;49m\u001b[43mclip\u001b[49m\u001b[43m(\u001b[49m\u001b[43mgeometry\u001b[49m\u001b[43m,\u001b[49m\u001b[43m \u001b[49m\u001b[43mshape\u001b[49m\u001b[38;5;241;43m.\u001b[39;49m\u001b[43mcrs\u001b[49m\u001b[43m,\u001b[49m\u001b[43m \u001b[49m\u001b[43mall_touched\u001b[49m\u001b[38;5;241;43m=\u001b[39;49m\u001b[38;5;28;43;01mFalse\u001b[39;49;00m\u001b[43m,\u001b[49m\u001b[43m \u001b[49m\u001b[43mdrop\u001b[49m\u001b[38;5;241;43m=\u001b[39;49m\u001b[38;5;28;43;01mTrue\u001b[39;49;00m\u001b[43m,\u001b[49m\u001b[43m \u001b[49m\u001b[43minvert\u001b[49m\u001b[38;5;241;43m=\u001b[39;49m\u001b[38;5;28;43;01mFalse\u001b[39;49;00m\u001b[43m)\u001b[49m\n",
      "File \u001b[1;32md:\\Code\\PHA_burn_severity\\.conda\\Lib\\site-packages\\rioxarray\\raster_array.py:921\u001b[0m, in \u001b[0;36mRasterArray.clip\u001b[1;34m(self, geometries, crs, all_touched, drop, invert, from_disk)\u001b[0m\n\u001b[0;32m    913\u001b[0m     cropped_ds \u001b[38;5;241m=\u001b[39m _clip_from_disk(\n\u001b[0;32m    914\u001b[0m         \u001b[38;5;28mself\u001b[39m\u001b[38;5;241m.\u001b[39m_obj,\n\u001b[0;32m    915\u001b[0m         geometries\u001b[38;5;241m=\u001b[39mgeometries,\n\u001b[1;32m   (...)\u001b[0m\n\u001b[0;32m    918\u001b[0m         invert\u001b[38;5;241m=\u001b[39minvert,\n\u001b[0;32m    919\u001b[0m     )\n\u001b[0;32m    920\u001b[0m \u001b[38;5;28;01mif\u001b[39;00m cropped_ds \u001b[38;5;129;01mis\u001b[39;00m \u001b[38;5;28;01mNone\u001b[39;00m:\n\u001b[1;32m--> 921\u001b[0m     cropped_ds \u001b[38;5;241m=\u001b[39m \u001b[43m_clip_xarray\u001b[49m\u001b[43m(\u001b[49m\n\u001b[0;32m    922\u001b[0m \u001b[43m        \u001b[49m\u001b[38;5;28;43mself\u001b[39;49m\u001b[38;5;241;43m.\u001b[39;49m\u001b[43m_obj\u001b[49m\u001b[43m,\u001b[49m\n\u001b[0;32m    923\u001b[0m \u001b[43m        \u001b[49m\u001b[43mgeometries\u001b[49m\u001b[38;5;241;43m=\u001b[39;49m\u001b[43mgeometries\u001b[49m\u001b[43m,\u001b[49m\n\u001b[0;32m    924\u001b[0m \u001b[43m        \u001b[49m\u001b[43mall_touched\u001b[49m\u001b[38;5;241;43m=\u001b[39;49m\u001b[43mall_touched\u001b[49m\u001b[43m,\u001b[49m\n\u001b[0;32m    925\u001b[0m \u001b[43m        \u001b[49m\u001b[43mdrop\u001b[49m\u001b[38;5;241;43m=\u001b[39;49m\u001b[43mdrop\u001b[49m\u001b[43m,\u001b[49m\n\u001b[0;32m    926\u001b[0m \u001b[43m        \u001b[49m\u001b[43minvert\u001b[49m\u001b[38;5;241;43m=\u001b[39;49m\u001b[43minvert\u001b[49m\u001b[43m,\u001b[49m\n\u001b[0;32m    927\u001b[0m \u001b[43m    \u001b[49m\u001b[43m)\u001b[49m\n\u001b[0;32m    929\u001b[0m \u001b[38;5;28;01mif\u001b[39;00m (\n\u001b[0;32m    930\u001b[0m     cropped_ds\u001b[38;5;241m.\u001b[39mcoords[\u001b[38;5;28mself\u001b[39m\u001b[38;5;241m.\u001b[39mx_dim]\u001b[38;5;241m.\u001b[39msize \u001b[38;5;241m<\u001b[39m \u001b[38;5;241m1\u001b[39m\n\u001b[0;32m    931\u001b[0m     \u001b[38;5;129;01mor\u001b[39;00m cropped_ds\u001b[38;5;241m.\u001b[39mcoords[\u001b[38;5;28mself\u001b[39m\u001b[38;5;241m.\u001b[39my_dim]\u001b[38;5;241m.\u001b[39msize \u001b[38;5;241m<\u001b[39m \u001b[38;5;241m1\u001b[39m\n\u001b[0;32m    932\u001b[0m ):\n\u001b[0;32m    933\u001b[0m     \u001b[38;5;28;01mraise\u001b[39;00m NoDataInBounds(\n\u001b[0;32m    934\u001b[0m         \u001b[38;5;124mf\u001b[39m\u001b[38;5;124m\"\u001b[39m\u001b[38;5;124mNo data found in bounds.\u001b[39m\u001b[38;5;132;01m{\u001b[39;00m_get_data_var_message(\u001b[38;5;28mself\u001b[39m\u001b[38;5;241m.\u001b[39m_obj)\u001b[38;5;132;01m}\u001b[39;00m\u001b[38;5;124m\"\u001b[39m\n\u001b[0;32m    935\u001b[0m     )\n",
      "File \u001b[1;32md:\\Code\\PHA_burn_severity\\.conda\\Lib\\site-packages\\rioxarray\\raster_array.py:205\u001b[0m, in \u001b[0;36m_clip_xarray\u001b[1;34m(xds, geometries, all_touched, drop, invert)\u001b[0m\n\u001b[0;32m    195\u001b[0m \u001b[38;5;28;01mdef\u001b[39;00m \u001b[38;5;21m_clip_xarray\u001b[39m(\n\u001b[0;32m    196\u001b[0m     xds: xarray\u001b[38;5;241m.\u001b[39mDataArray,\n\u001b[0;32m    197\u001b[0m     geometries: Iterable,\n\u001b[1;32m   (...)\u001b[0m\n\u001b[0;32m    200\u001b[0m     invert: \u001b[38;5;28mbool\u001b[39m,\n\u001b[0;32m    201\u001b[0m ) \u001b[38;5;241m-\u001b[39m\u001b[38;5;241m>\u001b[39m xarray\u001b[38;5;241m.\u001b[39mDataArray:\n\u001b[0;32m    202\u001b[0m \u001b[38;5;250m    \u001b[39m\u001b[38;5;124;03m\"\"\"\u001b[39;00m\n\u001b[0;32m    203\u001b[0m \u001b[38;5;124;03m    clip the xarray DataArray\u001b[39;00m\n\u001b[0;32m    204\u001b[0m \u001b[38;5;124;03m    \"\"\"\u001b[39;00m\n\u001b[1;32m--> 205\u001b[0m     clip_mask_arr \u001b[38;5;241m=\u001b[39m \u001b[43mgeometry_mask\u001b[49m\u001b[43m(\u001b[49m\n\u001b[0;32m    206\u001b[0m \u001b[43m        \u001b[49m\u001b[43mgeometries\u001b[49m\u001b[38;5;241;43m=\u001b[39;49m\u001b[43mgeometries\u001b[49m\u001b[43m,\u001b[49m\n\u001b[0;32m    207\u001b[0m \u001b[43m        \u001b[49m\u001b[43mout_shape\u001b[49m\u001b[38;5;241;43m=\u001b[39;49m\u001b[43m(\u001b[49m\u001b[38;5;28;43mint\u001b[39;49m\u001b[43m(\u001b[49m\u001b[43mxds\u001b[49m\u001b[38;5;241;43m.\u001b[39;49m\u001b[43mrio\u001b[49m\u001b[38;5;241;43m.\u001b[39;49m\u001b[43mheight\u001b[49m\u001b[43m)\u001b[49m\u001b[43m,\u001b[49m\u001b[43m \u001b[49m\u001b[38;5;28;43mint\u001b[39;49m\u001b[43m(\u001b[49m\u001b[43mxds\u001b[49m\u001b[38;5;241;43m.\u001b[39;49m\u001b[43mrio\u001b[49m\u001b[38;5;241;43m.\u001b[39;49m\u001b[43mwidth\u001b[49m\u001b[43m)\u001b[49m\u001b[43m)\u001b[49m\u001b[43m,\u001b[49m\n\u001b[0;32m    208\u001b[0m \u001b[43m        \u001b[49m\u001b[43mtransform\u001b[49m\u001b[38;5;241;43m=\u001b[39;49m\u001b[43mxds\u001b[49m\u001b[38;5;241;43m.\u001b[39;49m\u001b[43mrio\u001b[49m\u001b[38;5;241;43m.\u001b[39;49m\u001b[43mtransform\u001b[49m\u001b[43m(\u001b[49m\u001b[43mrecalc\u001b[49m\u001b[38;5;241;43m=\u001b[39;49m\u001b[38;5;28;43;01mTrue\u001b[39;49;00m\u001b[43m)\u001b[49m\u001b[43m,\u001b[49m\n\u001b[0;32m    209\u001b[0m \u001b[43m        \u001b[49m\u001b[43minvert\u001b[49m\u001b[38;5;241;43m=\u001b[39;49m\u001b[38;5;129;43;01mnot\u001b[39;49;00m\u001b[43m \u001b[49m\u001b[43minvert\u001b[49m\u001b[43m,\u001b[49m\n\u001b[0;32m    210\u001b[0m \u001b[43m        \u001b[49m\u001b[43mall_touched\u001b[49m\u001b[38;5;241;43m=\u001b[39;49m\u001b[43mall_touched\u001b[49m\u001b[43m,\u001b[49m\n\u001b[0;32m    211\u001b[0m \u001b[43m    \u001b[49m\u001b[43m)\u001b[49m\n\u001b[0;32m    212\u001b[0m     clip_mask_xray \u001b[38;5;241m=\u001b[39m xarray\u001b[38;5;241m.\u001b[39mDataArray(\n\u001b[0;32m    213\u001b[0m         clip_mask_arr,\n\u001b[0;32m    214\u001b[0m         dims\u001b[38;5;241m=\u001b[39m(xds\u001b[38;5;241m.\u001b[39mrio\u001b[38;5;241m.\u001b[39my_dim, xds\u001b[38;5;241m.\u001b[39mrio\u001b[38;5;241m.\u001b[39mx_dim),\n\u001b[0;32m    215\u001b[0m     )\n\u001b[0;32m    216\u001b[0m     cropped_ds \u001b[38;5;241m=\u001b[39m xds\u001b[38;5;241m.\u001b[39mwhere(clip_mask_xray)\n",
      "File \u001b[1;32md:\\Code\\PHA_burn_severity\\.conda\\Lib\\site-packages\\rasterio\\env.py:401\u001b[0m, in \u001b[0;36mensure_env.<locals>.wrapper\u001b[1;34m(*args, **kwds)\u001b[0m\n\u001b[0;32m    399\u001b[0m \u001b[38;5;28;01melse\u001b[39;00m:\n\u001b[0;32m    400\u001b[0m     \u001b[38;5;28;01mwith\u001b[39;00m Env\u001b[38;5;241m.\u001b[39mfrom_defaults():\n\u001b[1;32m--> 401\u001b[0m         \u001b[38;5;28;01mreturn\u001b[39;00m \u001b[43mf\u001b[49m\u001b[43m(\u001b[49m\u001b[38;5;241;43m*\u001b[39;49m\u001b[43margs\u001b[49m\u001b[43m,\u001b[49m\u001b[43m \u001b[49m\u001b[38;5;241;43m*\u001b[39;49m\u001b[38;5;241;43m*\u001b[39;49m\u001b[43mkwds\u001b[49m\u001b[43m)\u001b[49m\n",
      "File \u001b[1;32md:\\Code\\PHA_burn_severity\\.conda\\Lib\\site-packages\\rasterio\\features.py:67\u001b[0m, in \u001b[0;36mgeometry_mask\u001b[1;34m(geometries, out_shape, transform, all_touched, invert)\u001b[0m\n\u001b[0;32m     33\u001b[0m \u001b[38;5;250m\u001b[39m\u001b[38;5;124;03m\"\"\"Create a mask from shapes.\u001b[39;00m\n\u001b[0;32m     34\u001b[0m \n\u001b[0;32m     35\u001b[0m \u001b[38;5;124;03mBy default, mask is intended for use as a\u001b[39;00m\n\u001b[1;32m   (...)\u001b[0m\n\u001b[0;32m     63\u001b[0m \n\u001b[0;32m     64\u001b[0m \u001b[38;5;124;03m\"\"\"\u001b[39;00m\n\u001b[0;32m     65\u001b[0m fill, mask_value \u001b[38;5;241m=\u001b[39m (\u001b[38;5;241m0\u001b[39m, \u001b[38;5;241m1\u001b[39m) \u001b[38;5;28;01mif\u001b[39;00m invert \u001b[38;5;28;01melse\u001b[39;00m (\u001b[38;5;241m1\u001b[39m, \u001b[38;5;241m0\u001b[39m)\n\u001b[1;32m---> 67\u001b[0m \u001b[38;5;28;01mreturn\u001b[39;00m \u001b[43mrasterize\u001b[49m\u001b[43m(\u001b[49m\n\u001b[0;32m     68\u001b[0m \u001b[43m    \u001b[49m\u001b[43mgeometries\u001b[49m\u001b[43m,\u001b[49m\n\u001b[0;32m     69\u001b[0m \u001b[43m    \u001b[49m\u001b[43mout_shape\u001b[49m\u001b[38;5;241;43m=\u001b[39;49m\u001b[43mout_shape\u001b[49m\u001b[43m,\u001b[49m\n\u001b[0;32m     70\u001b[0m \u001b[43m    \u001b[49m\u001b[43mtransform\u001b[49m\u001b[38;5;241;43m=\u001b[39;49m\u001b[43mtransform\u001b[49m\u001b[43m,\u001b[49m\n\u001b[0;32m     71\u001b[0m \u001b[43m    \u001b[49m\u001b[43mall_touched\u001b[49m\u001b[38;5;241;43m=\u001b[39;49m\u001b[43mall_touched\u001b[49m\u001b[43m,\u001b[49m\n\u001b[0;32m     72\u001b[0m \u001b[43m    \u001b[49m\u001b[43mfill\u001b[49m\u001b[38;5;241;43m=\u001b[39;49m\u001b[43mfill\u001b[49m\u001b[43m,\u001b[49m\n\u001b[0;32m     73\u001b[0m \u001b[43m    \u001b[49m\u001b[43mdefault_value\u001b[49m\u001b[38;5;241;43m=\u001b[39;49m\u001b[43mmask_value\u001b[49m\u001b[43m)\u001b[49m\u001b[38;5;241m.\u001b[39mastype(\u001b[38;5;124m'\u001b[39m\u001b[38;5;124mbool\u001b[39m\u001b[38;5;124m'\u001b[39m)\n",
      "File \u001b[1;32md:\\Code\\PHA_burn_severity\\.conda\\Lib\\site-packages\\rasterio\\env.py:398\u001b[0m, in \u001b[0;36mensure_env.<locals>.wrapper\u001b[1;34m(*args, **kwds)\u001b[0m\n\u001b[0;32m    395\u001b[0m \u001b[38;5;129m@wraps\u001b[39m(f)\n\u001b[0;32m    396\u001b[0m \u001b[38;5;28;01mdef\u001b[39;00m \u001b[38;5;21mwrapper\u001b[39m(\u001b[38;5;241m*\u001b[39margs, \u001b[38;5;241m*\u001b[39m\u001b[38;5;241m*\u001b[39mkwds):\n\u001b[0;32m    397\u001b[0m     \u001b[38;5;28;01mif\u001b[39;00m local\u001b[38;5;241m.\u001b[39m_env:\n\u001b[1;32m--> 398\u001b[0m         \u001b[38;5;28;01mreturn\u001b[39;00m \u001b[43mf\u001b[49m\u001b[43m(\u001b[49m\u001b[38;5;241;43m*\u001b[39;49m\u001b[43margs\u001b[49m\u001b[43m,\u001b[49m\u001b[43m \u001b[49m\u001b[38;5;241;43m*\u001b[39;49m\u001b[38;5;241;43m*\u001b[39;49m\u001b[43mkwds\u001b[49m\u001b[43m)\u001b[49m\n\u001b[0;32m    399\u001b[0m     \u001b[38;5;28;01melse\u001b[39;00m:\n\u001b[0;32m    400\u001b[0m         \u001b[38;5;28;01mwith\u001b[39;00m Env\u001b[38;5;241m.\u001b[39mfrom_defaults():\n",
      "File \u001b[1;32md:\\Code\\PHA_burn_severity\\.conda\\Lib\\site-packages\\rasterio\\features.py:331\u001b[0m, in \u001b[0;36mrasterize\u001b[1;34m(shapes, out_shape, fill, out, transform, all_touched, merge_alg, default_value, dtype)\u001b[0m\n\u001b[0;32m    328\u001b[0m         warnings\u001b[38;5;241m.\u001b[39mwarn(\u001b[38;5;124m'\u001b[39m\u001b[38;5;124mInvalid or empty shape \u001b[39m\u001b[38;5;132;01m{}\u001b[39;00m\u001b[38;5;124m at index \u001b[39m\u001b[38;5;132;01m{}\u001b[39;00m\u001b[38;5;124m will not be rasterized.\u001b[39m\u001b[38;5;124m'\u001b[39m\u001b[38;5;241m.\u001b[39mformat(geom, index), ShapeSkipWarning)\n\u001b[0;32m    330\u001b[0m \u001b[38;5;28;01mif\u001b[39;00m \u001b[38;5;129;01mnot\u001b[39;00m valid_shapes:\n\u001b[1;32m--> 331\u001b[0m     \u001b[38;5;28;01mraise\u001b[39;00m \u001b[38;5;167;01mValueError\u001b[39;00m(\u001b[38;5;124m'\u001b[39m\u001b[38;5;124mNo valid geometry objects found for rasterize\u001b[39m\u001b[38;5;124m'\u001b[39m)\n\u001b[0;32m    333\u001b[0m shape_values \u001b[38;5;241m=\u001b[39m np\u001b[38;5;241m.\u001b[39marray(shape_values)\n\u001b[0;32m    335\u001b[0m \u001b[38;5;28;01mif\u001b[39;00m \u001b[38;5;129;01mnot\u001b[39;00m validate_dtype(shape_values, valid_dtypes):\n",
      "\u001b[1;31mValueError\u001b[0m: No valid geometry objects found for rasterize"
     ]
    }
   ],
   "source": [
    "for idx, row in shape.iterrows():\n",
    "    basin_id = row['BASIN_ID']\n",
    "    geometry = row['geometry']\n",
    "    basin_dNBR = fire.rio.clip(geometry, shape.crs, all_touched=False, drop=True, invert=False)"
   ]
  },
  {
   "cell_type": "code",
   "execution_count": null,
   "metadata": {},
   "outputs": [],
   "source": []
  }
 ],
 "metadata": {
  "kernelspec": {
   "display_name": "Python 3",
   "language": "python",
   "name": "python3"
  },
  "language_info": {
   "codemirror_mode": {
    "name": "ipython",
    "version": 3
   },
   "file_extension": ".py",
   "mimetype": "text/x-python",
   "name": "python",
   "nbconvert_exporter": "python",
   "pygments_lexer": "ipython3",
   "version": "3.12.4"
  }
 },
 "nbformat": 4,
 "nbformat_minor": 2
}

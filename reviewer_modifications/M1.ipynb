{
 "cells": [
  {
   "cell_type": "code",
   "execution_count": 1,
   "metadata": {},
   "outputs": [],
   "source": [
    "import geopandas as gpd\n",
    "import xarray as xr\n",
    "import numpy as np\n",
    "import rioxarray as rxr\n",
    "import os\n",
    "from math import e\n",
    "import matplotlib.pyplot as plt"
   ]
  },
  {
   "cell_type": "code",
   "execution_count": 2,
   "metadata": {},
   "outputs": [],
   "source": [
    "IDir = r'/Volumes/PhD/imagery/masters/output/dNBR/basin_12042_dNBR.tif'\n",
    "ODir = r'/Volumes/PhD/imagery/masters/output/ROC/'"
   ]
  },
  {
   "cell_type": "code",
   "execution_count": 3,
   "metadata": {},
   "outputs": [],
   "source": [
    "def M1(dnbr, \n",
    "          save=False):\n",
    "    \n",
    "    # Coefficients for Southern California\n",
    "    b = -3.63\n",
    "    b_1 = 0.41\n",
    "    b_2 = 0.67\n",
    "    b_3 = 0.7\n",
    "    \n",
    "    # File naming\n",
    "    \n",
    "\n",
    "    dnbr_flat = dnbr.values.flatten()\n",
    "    pixarr = np.empty((dnbr_flat.shape[0]), dtype= float)\n",
    "    pixarr[:] = np.nan\n",
    "    x = np.where(np.isnan(dnbr_flat) == False)\n",
    "        \n",
    "    # Getting the data from dnbr_flat\n",
    "    dnbrdata = dnbr_flat[x]\n",
    "    dnbrdata = np.mean(dnbrdata)\n",
    "        \n",
    "    # Pulling tif metadata\n",
    "    metadata = dnbr.attrs\n",
    "    x_1 = float(metadata.get('X1'))\n",
    "    x_3 = float(metadata.get('X3'))\n",
    "    \n",
    "    R = 19.56\n",
    "\n",
    "    lnx =  b + (b_1 * x_1 * R) + (b_2 * dnbrdata * R) + (b_3 * x_3 * R)\n",
    "    prob = (e ** lnx) / (1.0 + e ** lnx)\n",
    "    return prob\n",
    "    "
   ]
  },
  {
   "cell_type": "code",
   "execution_count": 4,
   "metadata": {},
   "outputs": [
    {
     "name": "stdout",
     "output_type": "stream",
     "text": [
      "0.21659964\n",
      "0.9291953\n"
     ]
    }
   ],
   "source": [
    "q = rxr.open_rasterio(IDir)\n",
    "dnbr_flat = q.values.flatten()\n",
    "pixarr = np.empty((dnbr_flat.shape[0]), dtype= float)\n",
    "pixarr[:] = np.nan\n",
    "x = np.where(np.isnan(dnbr_flat) == False)\n",
    "        \n",
    "# Getting the data from dnbr_flat\n",
    "dnbrdata = dnbr_flat[x]\n",
    "dnbrdata = np.mean(dnbrdata)\n",
    "\n",
    "print(dnbrdata)\n",
    "y = M1(q)\n",
    "print(y)"
   ]
  },
  {
   "cell_type": "code",
   "execution_count": 6,
   "metadata": {},
   "outputs": [
    {
     "name": "stdout",
     "output_type": "stream",
     "text": [
      "12424    0.414864\n",
      "Name: P, dtype: float64\n"
     ]
    }
   ],
   "source": [
    "shp = r'/Volumes/PhD/imagery/masters/baer/thm2017_Segment_DFPredictions_15min_40mmh.shp'\n",
    "shp = gpd.read_file(shp)\n",
    "basin_id = 12042\n",
    "basin_data = shp[shp['Segment_ID'] == basin_id]\n",
    "print(basin_data['P'])"
   ]
  },
  {
   "cell_type": "code",
   "execution_count": null,
   "metadata": {},
   "outputs": [],
   "source": []
  }
 ],
 "metadata": {
  "kernelspec": {
   "display_name": ".venv",
   "language": "python",
   "name": "python3"
  },
  "language_info": {
   "codemirror_mode": {
    "name": "ipython",
    "version": 3
   },
   "file_extension": ".py",
   "mimetype": "text/x-python",
   "name": "python",
   "nbconvert_exporter": "python",
   "pygments_lexer": "ipython3",
   "version": "3.9.6"
  }
 },
 "nbformat": 4,
 "nbformat_minor": 2
}

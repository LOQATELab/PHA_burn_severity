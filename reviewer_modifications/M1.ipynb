{
 "cells": [
  {
   "cell_type": "code",
   "execution_count": 1,
   "metadata": {},
   "outputs": [],
   "source": [
    "import geopandas as gpd\n",
    "import xarray as xr\n",
    "import numpy as np\n",
    "import rioxarray as rxr\n",
    "import os\n",
    "from math import e\n",
    "import matplotlib.pyplot as plt\n",
    "import pandas as pd"
   ]
  },
  {
   "cell_type": "code",
   "execution_count": 2,
   "metadata": {},
   "outputs": [
    {
     "name": "stdout",
     "output_type": "stream",
     "text": [
      "Index(['BASIN_ID', 'Shape_Leng', 'Shape_Area', 'Segment_ID', 'Acc_Cl',\n",
      "       'Perim_Buff', 'InsidePeri', 'OutsidePer', 'Fire_ID', 'Fire_Segme',\n",
      "       'L_X1', 'L_X2', 'L_X3', 'V_X1', 'V_X2', 'Shape_Le_1', 'R', 'V_X3', 'X',\n",
      "       'ExpX', 'P', 'PCl', 'PCl_Legend', 'LnV', 'Volume', 'VolMin', 'VolMax',\n",
      "       'VolCl', 'VolCl_Lege', 'CombHaz', 'CombHazCl', 'CombHazCl_', 'area',\n",
      "       'Field', 'ROC', 'nearest_st', 'distance_t', 'RI_index', 'RI',\n",
      "       'Mean_dNBR', 'Med_dNBR', 'PF_dNBR', 'geometry'],\n",
      "      dtype='object')\n"
     ]
    }
   ],
   "source": [
    "IDir = r'/Volumes/PhD/imagery/masters/ROC/M1_ROC.shp'\n",
    "ODir = r'/Volumes/PhD/imagery/masters/output/ROC/'\n",
    "dNBR_df = gpd.read_file(IDir)\n",
    "print(dNBR_df.columns)"
   ]
  },
  {
   "cell_type": "code",
   "execution_count": 3,
   "metadata": {},
   "outputs": [],
   "source": [
    "def M1(dnbr, Value):\n",
    "    \n",
    "    # Coefficients for Southern California\n",
    "    b = -3.63\n",
    "    b_1 = 0.41\n",
    "    b_2 = 0.67\n",
    "    b_3 = 0.7\n",
    "    \n",
    "    x_1 = dnbr['L_X1']\n",
    "    x_3 = dnbr['L_X3']\n",
    "    x_2 = dnbr[f'{Value}']\n",
    "    R = dnbr['RI']\n",
    "    \n",
    "    lnx =  b + (b_1 * x_1 * R) + (b_2 * x_2 * R) + (b_3 * x_3 * R)\n",
    "    prob = (e ** lnx) / (1.0 + e ** lnx)\n",
    "    return prob\n",
    "    "
   ]
  },
  {
   "cell_type": "code",
   "execution_count": 4,
   "metadata": {},
   "outputs": [
    {
     "name": "stdout",
     "output_type": "stream",
     "text": [
      "12424    0.414864\n",
      "Name: P, dtype: float64\n"
     ]
    }
   ],
   "source": [
    "shp = r'/Volumes/PhD/imagery/masters/baer/thm2017_Segment_DFPredictions_15min_40mmh.shp'\n",
    "shp = gpd.read_file(shp)\n",
    "basin_id = 12042\n",
    "basin_data = shp[shp['Segment_ID'] == basin_id]\n",
    "print(basin_data['P'])"
   ]
  },
  {
   "cell_type": "code",
   "execution_count": 6,
   "metadata": {},
   "outputs": [],
   "source": [
    "M1P_Mean = M1(dNBR_df, 'Mean_dNBR')\n",
    "M1P_Median = M1(dNBR_df, 'Med_dNBR')\n",
    "M1P_PF = M1(dNBR_df, 'PF_dNBR')\n",
    "M1P_df = {\n",
    "    'M1P_Mean': M1P_Mean,\n",
    "    'M1P_Med': M1P_Median,\n",
    "    'M1p_PF': M1P_PF\n",
    "}\n",
    "M1P_df = pd.DataFrame(M1P_df)\n",
    "\n",
    "merged_gdf = gpd.GeoDataFrame(\n",
    "    pd.merge(dNBR_df, M1P_df, left_index=True, right_index=True, how=\"left\")\n",
    ")\n"
   ]
  },
  {
   "cell_type": "code",
   "execution_count": 7,
   "metadata": {},
   "outputs": [
    {
     "name": "stdout",
     "output_type": "stream",
     "text": [
      "<class 'geopandas.geodataframe.GeoDataFrame'>\n"
     ]
    }
   ],
   "source": [
    "print(type(merged_gdf))"
   ]
  },
  {
   "cell_type": "code",
   "execution_count": 11,
   "metadata": {},
   "outputs": [],
   "source": [
    "merged_gdf.to_file(r'/Volumes/PhD/imagery/masters/ROC/M1_CT_ROC.shp')"
   ]
  },
  {
   "cell_type": "code",
   "execution_count": null,
   "metadata": {},
   "outputs": [],
   "source": []
  }
 ],
 "metadata": {
  "kernelspec": {
   "display_name": ".venv",
   "language": "python",
   "name": "python3"
  },
  "language_info": {
   "codemirror_mode": {
    "name": "ipython",
    "version": 3
   },
   "file_extension": ".py",
   "mimetype": "text/x-python",
   "name": "python",
   "nbconvert_exporter": "python",
   "pygments_lexer": "ipython3",
   "version": "3.9.6"
  }
 },
 "nbformat": 4,
 "nbformat_minor": 2
}

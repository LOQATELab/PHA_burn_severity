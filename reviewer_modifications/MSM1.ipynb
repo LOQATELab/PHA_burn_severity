{
 "cells": [
  {
   "cell_type": "code",
   "execution_count": 1,
   "metadata": {},
   "outputs": [],
   "source": [
    "import geopandas as gpd\n",
    "import xarray as xr\n",
    "import numpy as np\n",
    "import rioxarray as rxr\n",
    "import os\n",
    "from math import e\n",
    "import matplotlib.pyplot as plt"
   ]
  },
  {
   "cell_type": "code",
   "execution_count": 6,
   "metadata": {},
   "outputs": [],
   "source": [
    "def MSM1(dnbr, \n",
    "          plot=False, \n",
    "          save=False):\n",
    "    \n",
    "    # Coefficients for Southern California\n",
    "    b = -3.63\n",
    "    b_1 = 0.41\n",
    "    b_2 = np.array([0.67])\n",
    "    b_3 = 0.7\n",
    "    \n",
    "    \n",
    "\n",
    "    dnbr_flat = dnbr.values.flatten()\n",
    "    pixarr = np.empty((dnbr_flat.shape[0]), dtype= float)\n",
    "    pixarr[:] = np.nan\n",
    "    x = np.where(np.isnan(dnbr_flat) == False)\n",
    "        \n",
    "    # Getting the data from dnbr_flat\n",
    "    dnbrdata = dnbr_flat[x]\n",
    "        \n",
    "    # Pulling tif metadata\n",
    "    metadata = dnbr.attrs\n",
    "    x_1 = float(metadata.get('X1'))\n",
    "    x_3 = float(metadata.get('X3'))\n",
    "    s = np.multiply(dnbrdata, b_2)\n",
    "    s1 = np.multiply(s, val)\n",
    "    # s1 multiplication assumes when function is called that val is defined globally in code.\n",
    "    \n",
    "    # Per pixel analysis, probability stored in empty list p1\n",
    "    p1 = []\n",
    "    for i in s1:\n",
    "        lnx =  b + (b_1 * x_1 * val) + i + (b_3 * x_3 * val)\n",
    "        prob = (e ** lnx) / (1.0 + e ** lnx)\n",
    "        p1.append(prob)\n",
    "       \n",
    "    # Append probability array, flatten data, reshape into image\n",
    "    prob_arr = np.array(p1)\n",
    "    p_final = prob_arr.flatten()\n",
    "    dist_list.append(p_final)\n",
    "    pixarr[x] = p_final\n",
    "    pixarrImg = pixarr.reshape((dnbr.shape[1], dnbr.shape[2]))\n",
    "    out_dnbr = xr.Dataset()\n",
    "    out_dnbr = xr.DataArray(pixarrImg, dims = ('y', 'x'),\n",
    "                            coords = {'x': dnbr.coords['x'],\n",
    "                                      'y': dnbr.coords['y']})\n",
    "    \n",
    "    basin = '17346'\n",
    "\n",
    "    if plot == True:\n",
    "        out_dnbr.plot(\n",
    "            cmap = 'gnuplot',\n",
    "            vmax = 1,\n",
    "            vmin = 0)\n",
    "        plt.title(f\"Basin {basin} Per Pixel Initiation Probablilty, R = {int(val*4)}mm/hr\")\n",
    "    \n",
    "    if save == True:\n",
    "        outname = f\"{basin}_ppp_{int(val*4)}mmhr.tif\"\n",
    "        out_dnbr.rio.to_raster(os.path.join(ppp_out, outname), driver='GTIFF')\n",
    "        print(f\"Basin {basin} {int(val*4)}mm/hr per pixel analysis saved as geotiff\")\n",
    "        \n",
    "        print(f\"Basin {basin} {int(val*4)}mm/hr per pixel analysis complete\")\n",
    "    return out_dnbr"
   ]
  },
  {
   "cell_type": "code",
   "execution_count": 9,
   "metadata": {},
   "outputs": [],
   "source": [
    "R = [3.0, 4.0, 5.0, 6.0, 7.0, 8.0, 9.0, 10.0]\n",
    "dNBR = rxr.open_rasterio(r'D:/imagery/masters/output/basin_17346_dNBR.tif')\n",
    "\n",
    "dist_list = []\n",
    "\n",
    "for val in R:\n",
    "    MSM1(dNBR, False, False)\n"
   ]
  },
  {
   "cell_type": "code",
   "execution_count": 8,
   "metadata": {},
   "outputs": [
    {
     "name": "stdout",
     "output_type": "stream",
     "text": [
      "[array([0.09549278, 0.09174125, 0.09814919, ..., 0.22353427, 0.21521952,\n",
      "       0.10168549]), array([0.14334435, 0.13625577, 0.14839053, ..., 0.38930124, 0.37402355,\n",
      "       0.15513941]), array([0.20961746, 0.19766879, 0.21812941, ..., 0.58532861, 0.56555975,\n",
      "       0.22951367]), array([0.29594572, 0.27785745, 0.30876042, ..., 0.75761068, 0.73933383,\n",
      "       0.32579383]), array([0.3998414 , 0.37535761, 0.41696596, ..., 0.87375349, 0.86071731,\n",
      "       0.43942818]), array([0.51360351, 0.48413387, 0.53380805, ..., 0.93874505, 0.93086235,\n",
      "       0.55978882]), array([0.62597339, 0.59443457, 0.64705493, ..., 0.97137513, 0.96703421,\n",
      "       0.67350772]), array([0.72622123, 0.69596207, 0.74588767, ..., 0.98686657, 0.98459465,\n",
      "       0.76992386])]\n"
     ]
    }
   ],
   "source": [
    "print(dist_list)"
   ]
  },
  {
   "cell_type": "code",
   "execution_count": null,
   "metadata": {},
   "outputs": [],
   "source": []
  }
 ],
 "metadata": {
  "kernelspec": {
   "display_name": "Python 3",
   "language": "python",
   "name": "python3"
  },
  "language_info": {
   "codemirror_mode": {
    "name": "ipython",
    "version": 3
   },
   "file_extension": ".py",
   "mimetype": "text/x-python",
   "name": "python",
   "nbconvert_exporter": "python",
   "pygments_lexer": "ipython3",
   "version": "3.12.4"
  }
 },
 "nbformat": 4,
 "nbformat_minor": 2
}

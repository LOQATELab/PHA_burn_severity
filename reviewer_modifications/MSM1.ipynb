{
 "cells": [
  {
   "cell_type": "code",
   "execution_count": 1,
   "metadata": {},
   "outputs": [],
   "source": [
    "import geopandas as gpd\n",
    "import xarray as xr\n",
    "import numpy as np\n",
    "import rioxarray as rxr\n",
    "import os\n",
    "from math import e\n",
    "import matplotlib.pyplot as plt"
   ]
  },
  {
   "cell_type": "code",
   "execution_count": 2,
   "metadata": {},
   "outputs": [],
   "source": [
    "IDir = r'D:/imagery/masters/output/dNBR'\n",
    "ODir = r'D:/imagery/masters/output/MSM1/'"
   ]
  },
  {
   "cell_type": "code",
   "execution_count": 3,
   "metadata": {},
   "outputs": [],
   "source": [
    "def MSM1(dnbr, \n",
    "          save=False):\n",
    "    \n",
    "    # Coefficients for Southern California\n",
    "    b = -3.63\n",
    "    b_1 = 0.41\n",
    "    b_2 = np.array([0.67])\n",
    "    b_3 = 0.7\n",
    "    \n",
    "    # File naming\n",
    "    \n",
    "\n",
    "    dnbr_flat = dnbr.values.flatten()\n",
    "    pixarr = np.empty((dnbr_flat.shape[0]), dtype= float)\n",
    "    pixarr[:] = np.nan\n",
    "    x = np.where(np.isnan(dnbr_flat) == False)\n",
    "        \n",
    "    # Getting the data from dnbr_flat\n",
    "    dnbrdata = dnbr_flat[x]\n",
    "        \n",
    "    # Pulling tif metadata\n",
    "    metadata = dnbr.attrs\n",
    "    x_1 = float(metadata.get('X1'))\n",
    "    x_3 = float(metadata.get('X3'))\n",
    "    s = np.multiply(dnbrdata, b_2)\n",
    "    \n",
    "    # s1 multiplication assumes when function is called that val is defined globally in code.\n",
    "    \n",
    "    # Per pixel analysis, probability stored in empty list p1\n",
    "    R = [3.0, 4.0, 5.0, 6.0, 7.0, 8.0, 9.0, 10.0]\n",
    "    for val in R:\n",
    "        s1 = np.multiply(s, val)\n",
    "        p1 = []\n",
    "        for i in s1:\n",
    "            lnx =  b + (b_1 * x_1 * val) + i + (b_3 * x_3 * val)\n",
    "            prob = (e ** lnx) / (1.0 + e ** lnx)\n",
    "            p1.append(prob)\n",
    "        \n",
    "        # Append probability array, flatten data, reshape into image\n",
    "        prob_arr = np.array(p1)\n",
    "        p_final = prob_arr.flatten()\n",
    "        pixarr[x] = p_final\n",
    "        pixarrImg = pixarr.reshape((dnbr.shape[1], dnbr.shape[2]))\n",
    "        out_dnbr = xr.Dataset()\n",
    "        out_dnbr = xr.DataArray(pixarrImg, dims = ('y', 'x'),\n",
    "                                coords = {'x': dnbr.coords['x'],\n",
    "                                        'y': dnbr.coords['y']})\n",
    "        out_dnbr = out_dnbr.where(~np.isnan(out_dnbr), np.nan)\n",
    "        \n",
    "        if save == True:\n",
    "            outname = f\"{basin}_MSM1_{int(val*4)}mmhr.tif\"\n",
    "            out_dnbr.rio.to_raster(os.path.join(ODir, outname), driver='GTIFF')\n",
    "    "
   ]
  },
  {
   "cell_type": "code",
   "execution_count": 5,
   "metadata": {},
   "outputs": [],
   "source": [
    "for filename in os.listdir(IDir):\n",
    "    file = os.path.join(IDir, filename)\n",
    "    basin = filename.split('_')\n",
    "    basin = basin[1]\n",
    "    image = rxr.open_rasterio(file)\n",
    "    MSM1(image, False, True)\n",
    "    \n",
    "\n",
    "    \n"
   ]
  },
  {
   "cell_type": "code",
   "execution_count": null,
   "metadata": {},
   "outputs": [],
   "source": []
  }
 ],
 "metadata": {
  "kernelspec": {
   "display_name": "Python 3",
   "language": "python",
   "name": "python3"
  },
  "language_info": {
   "codemirror_mode": {
    "name": "ipython",
    "version": 3
   },
   "file_extension": ".py",
   "mimetype": "text/x-python",
   "name": "python",
   "nbconvert_exporter": "python",
   "pygments_lexer": "ipython3",
   "version": "3.12.4"
  }
 },
 "nbformat": 4,
 "nbformat_minor": 2
}

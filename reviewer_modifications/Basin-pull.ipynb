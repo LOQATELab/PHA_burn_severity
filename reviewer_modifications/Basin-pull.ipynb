{
 "cells": [
  {
   "cell_type": "code",
   "execution_count": 2,
   "metadata": {},
   "outputs": [],
   "source": [
    "import geopandas as gpd\n",
    "import xarray as xr\n",
    "import numpy as np\n",
    "import os\n",
    "import glob \n",
    "import rioxarray as rxr\n",
    "import matplotlib.pyplot as plt\n",
    "import seaborn as sns\n",
    "import re"
   ]
  },
  {
   "cell_type": "code",
   "execution_count": 26,
   "metadata": {},
   "outputs": [],
   "source": [
    "#basin_path = r'/Volumes/PhD/imagery/masters/TF_basin-TPN/OneDrive_1_11-7-2024/TF_TP-basins.shp'\n",
    "#basin_path = r'/Volumes/PhD/imagery/masters/TF_basin-TPN/TF_FP-basins.shp'\n",
    "#basin_path = r'/Volumes/PhD/imagery/masters/TF_basin-TPN/TF_I_NE.shp'\n",
    "#basin_path = r'/Volumes/PhD/imagery/masters/TF_basin-TPN/TF_TN_Final-basins.shp'\n",
    "basin_path = r'/Volumes/PhD/imagery/masters/TF_basin-TPN/TF_FN-basins.shp'\n",
    "msm1_path = r'/Volumes/PhD/imagery/masters/output/MSM1/'\n",
    "\n",
    "output = r'/Volumes/PhD/imagery/masters/output/global/TPN-basins/'\n",
    "\n",
    "basin = gpd.read_file(basin_path)\n",
    "\n",
    "#basin"
   ]
  },
  {
   "cell_type": "code",
   "execution_count": 27,
   "metadata": {},
   "outputs": [],
   "source": [
    "b_match = basin['BASIN_ID'].to_list()\n",
    "m_match = []\n",
    "files = glob.glob(msm1_path + '*')\n",
    "for f in files:\n",
    "    \n",
    "    file_id = int(f.split('/')[-1].split('_')[0])\n",
    "    if file_id in b_match:\n",
    "        m_match.append(f)"
   ]
  },
  {
   "cell_type": "code",
   "execution_count": 28,
   "metadata": {},
   "outputs": [],
   "source": [
    "for f in m_match:\n",
    "    name = int(f.split('/')[-1].split('_')[0])\n",
    "    match = re.search(r'\\d+mmhr', f)\n",
    "    mmhr = match.group()\n",
    "\n",
    "\n",
    "    image = rxr.open_rasterio(f, masked=True)\n",
    "    iflat = image.values.flatten()\n",
    "    iflat = iflat[~np.isnan(iflat)]\n",
    "    bin = np.arange(0, 1.05, 0.05)\n",
    "    mean = np.mean(iflat)\n",
    "\n",
    "\n",
    "    fig, axes = plt.subplots(1, 2, figsize=(14, 6))\n",
    "\n",
    "    \n",
    "    image.squeeze().plot.imshow(vmax = 1, vmin=0, cmap = 'inferno', ax=axes[0])\n",
    "    axes[0].axis('off')\n",
    "    axes[0].set_aspect('equal')\n",
    "    axes[0].set_title(f'Basin {name}')\n",
    "\n",
    "    \n",
    "    sns.histplot(iflat, bins=bin, kde=True, alpha=.1, ax=axes[1])\n",
    "    axes[1].axvline(x=mean, color='m', linestyle='--', label=f'Mean: {mean:.3f}')\n",
    "    axes[1].set_xlim(0,1)\n",
    "    axes[1].set_title(f'Basin {name} Distribution')\n",
    "    axes[1].set_xlabel(\"Probability\")\n",
    "    axes[1].set_ylabel(\"Frequency\")\n",
    "\n",
    "    plt.legend(loc='best')\n",
    "    plt.suptitle(f'FALSE NEGATIVE: {mmhr}')\n",
    "    plt.tight_layout()\n",
    "    plt.savefig(os.path.join(output,f'{name}_{mmhr}_FN.png'), dpi = 300)\n",
    "    plt.close(fig)\n",
    "    "
   ]
  },
  {
   "cell_type": "code",
   "execution_count": null,
   "metadata": {},
   "outputs": [],
   "source": []
  }
 ],
 "metadata": {
  "kernelspec": {
   "display_name": ".venv",
   "language": "python",
   "name": "python3"
  },
  "language_info": {
   "codemirror_mode": {
    "name": "ipython",
    "version": 3
   },
   "file_extension": ".py",
   "mimetype": "text/x-python",
   "name": "python",
   "nbconvert_exporter": "python",
   "pygments_lexer": "ipython3",
   "version": "3.9.6"
  }
 },
 "nbformat": 4,
 "nbformat_minor": 2
}

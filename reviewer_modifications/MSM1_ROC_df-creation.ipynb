{
 "cells": [
  {
   "cell_type": "code",
   "execution_count": 20,
   "metadata": {},
   "outputs": [],
   "source": [
    "import rioxarray as rxr\n",
    "import pandas as pd\n",
    "import os\n",
    "import numpy as np\n",
    "from scipy.stats import gaussian_kde"
   ]
  },
  {
   "cell_type": "code",
   "execution_count": 2,
   "metadata": {},
   "outputs": [],
   "source": [
    "IDir = r'/Volumes/PhD/imagery/masters/output/ROC/MSM1_ROC/'\n",
    "ODir = r'/Volumes/PhD/imagery/masters/output/ROC/'"
   ]
  },
  {
   "cell_type": "code",
   "execution_count": null,
   "metadata": {},
   "outputs": [],
   "source": [
    "def MSM1_stats(basin, image):\n",
    "    \n",
    "    basin_list = []\n",
    "    basin_list.append(basin)\n",
    "    mean_list = []\n",
    "    median_list = []\n",
    "    peak_frequency_list = []\n",
    "    above_50 = []\n",
    "    above_90 = []\n",
    "\n",
    "\n",
    "    i_flat = image.values.flatten()\n",
    "    pixarr = np.empty((i_flat.shape[0]), dtype= float)\n",
    "    pixarr[:] = np.nan\n",
    "    x = np.where(np.isnan(i_flat) == False)\n",
    "        \n",
    "    \n",
    "    i_data = i_flat[x]\n",
    "    mean_value = np.nanmean(i_data)\n",
    "    median_value = np.nanmedian(i_data)\n",
    "    kde = gaussian_kde(i_data)\n",
    "\n",
    "    \n",
    "    x_grid = np.linspace(i_data.min(), i_data.max(), 1000)\n",
    "\n",
    "    \n",
    "    kde_values = kde(x_grid)\n",
    "   \n",
    "    peak_index = kde_values.argmax()  \n",
    "    peak_frequency = x_grid[peak_index]\n",
    "    \n",
    "    valid_data = i_flat[~np.isnan(i_flat)]\n",
    "\n",
    "   \n",
    "    percent_above_0_5 = np.sum(valid_data > 0.5) / len(valid_data) \n",
    "    percent_above_0_9 = np.sum(valid_data > 0.9) / len(valid_data) \n",
    "\n",
    "    mean_list.append(mean_value)\n",
    "    median_list.append(median_value)\n",
    "    peak_frequency_list.append(peak_frequency)\n",
    "    above_50.append(percent_above_0_5)\n",
    "    above_90.append(percent_above_0_9)\n",
    "   \n",
    "\n",
    "\n"
   ]
  },
  {
   "cell_type": "code",
   "execution_count": 24,
   "metadata": {},
   "outputs": [
    {
     "name": "stdout",
     "output_type": "stream",
     "text": [
      "Percentage above 0.5: 33.87%\n",
      "Percentage above 0.9: 0.00%\n",
      "[np.float64(0.4349457189307832)]\n"
     ]
    }
   ],
   "source": [
    "for filename in os.listdir(IDir):\n",
    "    file = os.path.join(IDir, filename)\n",
    "    basin = filename.split('_')\n",
    "    basin = basin[0]\n",
    "    image = rxr.open_rasterio(file)\n",
    "    MSM1_stats(basin, image)\n",
    "    break\n",
    "    \n"
   ]
  },
  {
   "cell_type": "code",
   "execution_count": null,
   "metadata": {},
   "outputs": [],
   "source": []
  }
 ],
 "metadata": {
  "kernelspec": {
   "display_name": ".venv",
   "language": "python",
   "name": "python3"
  },
  "language_info": {
   "codemirror_mode": {
    "name": "ipython",
    "version": 3
   },
   "file_extension": ".py",
   "mimetype": "text/x-python",
   "name": "python",
   "nbconvert_exporter": "python",
   "pygments_lexer": "ipython3",
   "version": "3.9.6"
  }
 },
 "nbformat": 4,
 "nbformat_minor": 2
}

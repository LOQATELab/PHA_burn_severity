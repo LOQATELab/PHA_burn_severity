{
 "cells": [
  {
   "cell_type": "code",
   "execution_count": 3,
   "metadata": {},
   "outputs": [],
   "source": [
    "import rioxarray as rxr\n",
    "import pandas as pd\n",
    "import os\n",
    "import numpy as np\n",
    "from scipy.stats import gaussian_kde\n",
    "import matplotlib.pyplot as plt\n",
    "import seaborn as sns"
   ]
  },
  {
   "cell_type": "code",
   "execution_count": 8,
   "metadata": {},
   "outputs": [],
   "source": [
    "IDir = r'/Volumes/PhD/imagery/masters/output/MSM1/'\n",
    "ODir = r'/Volumes/PhD/imagery/masters/output/ROC/MSM1_ROC_fig/'"
   ]
  },
  {
   "cell_type": "code",
   "execution_count": 6,
   "metadata": {},
   "outputs": [],
   "source": [
    "def MSM1_stats(basin, RI, image, plot = False):\n",
    "    \n",
    "    i_flat = image.values.flatten()\n",
    "    pixarr = np.empty((i_flat.shape[0]), dtype= float)\n",
    "    pixarr[:] = np.nan\n",
    "    x = np.where(np.isnan(i_flat) == False)\n",
    "        \n",
    "    \n",
    "    i_data = i_flat[x]\n",
    "    mean_value = np.nanmean(i_data)\n",
    "    median_value = np.nanmedian(i_data)\n",
    "    kde = gaussian_kde(i_data)\n",
    "\n",
    "    \n",
    "    x_grid = np.linspace(i_data.min(), i_data.max(), 1000)\n",
    "\n",
    "    \n",
    "    kde_values = kde(x_grid)\n",
    "   \n",
    "    peak_index = kde_values.argmax()  \n",
    "    peak_frequency = x_grid[peak_index]\n",
    "    \n",
    "    valid_data = i_flat[~np.isnan(i_flat)]\n",
    "\n",
    "   \n",
    "    percent_above_0_5 = np.sum(valid_data > 0.5) / len(valid_data) \n",
    "    percent_above_0_9 = np.sum(valid_data > 0.9) / len(valid_data) \n",
    "\n",
    "    basin_list.append(basin)\n",
    "    RI_list.append(RI)\n",
    "    mean_list.append(mean_value)\n",
    "    median_list.append(median_value)\n",
    "    peak_frequency_list.append(peak_frequency)\n",
    "    above_50.append(percent_above_0_5)\n",
    "    above_90.append(percent_above_0_9)\n",
    "\n",
    "    if plot == True:\n",
    "        bin = np.arange(0, 1.05, 0.05)\n",
    "        plt.figure(figsize=(10, 6))\n",
    "        sns.histplot(valid_data, bins=bin, kde=True, alpha=.1)\n",
    "        plt.axvline(x=mean_value, color='m', linestyle='--', label = f'Mean: {mean_value: .3f}')\n",
    "        plt.axvline(x=median_value, color='b', linestyle='--', label = f'Median: {median_value: .3f}')\n",
    "        plt.axvline(x=peak_frequency, color='y', linestyle='--', label = f'Peak Freq: {peak_frequency: .3f}')\n",
    "\n",
    "        #plt.hist(valid_data, bins=bin, color='blue', alpha=0.7, edgecolor='black')  # Adjust bins as needed\n",
    "        plt.title(f\"Basin {basin} MSM1 Distribution\")\n",
    "        plt.xlabel(\"Probability\")\n",
    "        plt.ylabel(\"Frequency\")\n",
    "        plt.grid(axis='y', linestyle='--', alpha=0.7)\n",
    "        plt.legend(loc='best')\n",
    "        #plt.show()\n",
    "        plt.savefig(os.path.join(ODir, f'{basin}_MSM1_Dist.png'), dpi = 300)\n",
    "        plt.close()\n",
    "        \n",
    "   \n",
    "\n",
    "\n"
   ]
  },
  {
   "cell_type": "code",
   "execution_count": null,
   "metadata": {},
   "outputs": [
    {
     "name": "stdout",
     "output_type": "stream",
     "text": [
      "12\n"
     ]
    }
   ],
   "source": [
    "basin_list = []\n",
    "RI_list = []\n",
    "mean_list = []\n",
    "median_list = []\n",
    "peak_frequency_list = []\n",
    "above_50 = []\n",
    "above_90 = []\n",
    "\n",
    "for filename in os.listdir(IDir):\n",
    "    if filename.startswith(\"._\"):\n",
    "        print(f\"Skipping file: {filename}\")\n",
    "        continue\n",
    "    file = os.path.join(IDir, filename)\n",
    "    basin = filename.split('_')\n",
    "    RI = basin[2]\n",
    "    RI = RI.split('.')\n",
    "    RI = RI[0]\n",
    "    RI = RI[0:2]\n",
    "    basin = basin[0]\n",
    "    image = rxr.open_rasterio(file)\n",
    "    MSM1_stats(basin, RI, image, False)\n",
    "    break\n",
    "    \n",
    "    \n"
   ]
  },
  {
   "cell_type": "code",
   "execution_count": 20,
   "metadata": {},
   "outputs": [
    {
     "data": {
      "text/html": [
       "<div>\n",
       "<style scoped>\n",
       "    .dataframe tbody tr th:only-of-type {\n",
       "        vertical-align: middle;\n",
       "    }\n",
       "\n",
       "    .dataframe tbody tr th {\n",
       "        vertical-align: top;\n",
       "    }\n",
       "\n",
       "    .dataframe thead th {\n",
       "        text-align: right;\n",
       "    }\n",
       "</style>\n",
       "<table border=\"1\" class=\"dataframe\">\n",
       "  <thead>\n",
       "    <tr style=\"text-align: right;\">\n",
       "      <th></th>\n",
       "      <th>BASIN_ID</th>\n",
       "      <th>RI</th>\n",
       "      <th>MSM1P_Mean</th>\n",
       "      <th>MSM1P_Med</th>\n",
       "      <th>MSM1P_PF</th>\n",
       "      <th>MSM1_&gt;50</th>\n",
       "      <th>MSM1_&gt;90</th>\n",
       "    </tr>\n",
       "  </thead>\n",
       "  <tbody>\n",
       "    <tr>\n",
       "      <th>0</th>\n",
       "      <td>10009</td>\n",
       "      <td>12</td>\n",
       "      <td>0.240171</td>\n",
       "      <td>0.221695</td>\n",
       "      <td>0.200251</td>\n",
       "      <td>0.0</td>\n",
       "      <td>0.0</td>\n",
       "    </tr>\n",
       "  </tbody>\n",
       "</table>\n",
       "</div>"
      ],
      "text/plain": [
       "  BASIN_ID  RI  MSM1P_Mean  MSM1P_Med  MSM1P_PF  MSM1_>50  MSM1_>90\n",
       "0    10009  12    0.240171   0.221695  0.200251       0.0       0.0"
      ]
     },
     "execution_count": 20,
     "metadata": {},
     "output_type": "execute_result"
    }
   ],
   "source": [
    "MSM1_df = {\n",
    "    'BASIN_ID': basin_list,\n",
    "    'RI': RI_list,\n",
    "    'MSM1P_Mean': mean_list,\n",
    "    'MSM1P_Med': median_list,\n",
    "    'MSM1P_PF': peak_frequency_list,\n",
    "    'MSM1_>50': above_50,\n",
    "    'MSM1_>90': above_90\n",
    "}\n",
    "MSM1_df = pd.DataFrame(MSM1_df)\n",
    "MSM1_df"
   ]
  },
  {
   "cell_type": "code",
   "execution_count": 8,
   "metadata": {},
   "outputs": [],
   "source": [
    "MSM1_df.to_csv(os.path.join(ODir, 'MSM1_ROC.csv'))"
   ]
  },
  {
   "cell_type": "code",
   "execution_count": null,
   "metadata": {},
   "outputs": [],
   "source": []
  }
 ],
 "metadata": {
  "kernelspec": {
   "display_name": ".venv",
   "language": "python",
   "name": "python3"
  },
  "language_info": {
   "codemirror_mode": {
    "name": "ipython",
    "version": 3
   },
   "file_extension": ".py",
   "mimetype": "text/x-python",
   "name": "python",
   "nbconvert_exporter": "python",
   "pygments_lexer": "ipython3",
   "version": "3.9.6"
  }
 },
 "nbformat": 4,
 "nbformat_minor": 2
}

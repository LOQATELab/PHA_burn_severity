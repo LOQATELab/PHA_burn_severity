{
 "cells": [
  {
   "cell_type": "code",
   "execution_count": 24,
   "id": "3e755344",
   "metadata": {},
   "outputs": [],
   "source": [
    "import pandas as pd\n",
    "from PIL import Image\n",
    "import glob\n",
    "import os\n",
    "x_values_df = pd.read_csv('/mnt/nfs/lss/meerdink/home/skzebarth/masters/basin_data/x_values.csv', delimiter=',')\n",
    "basins = x_values_df['basin_id']\n",
    "#print(basins)"
   ]
  },
  {
   "cell_type": "code",
   "execution_count": 57,
   "id": "8ad3cae8",
   "metadata": {},
   "outputs": [],
   "source": [
    "path = '/mnt/nfs/lss/meerdink/home/skzebarth/masters/batch_output/fig/'\n",
    "out = '/mnt/nfs/lss/meerdink/home/skzebarth/masters/batch_output/fig/gif/'\n",
    "def make_gif(frame_folder, n):\n",
    "    frames = [Image.open(image) for image in b]\n",
    "    frame_one = frames[0]\n",
    "    frame_one.save(os.path.join(out, f\"Basin_{basin}_{n}.gif\"), format=\"GIF\", append_images=frames,\n",
    "               save_all=True, duration=200, loop=0)\n",
    "\n",
    "for basin in basins:\n",
    "    #n = '1x3'\n",
    "    #n = '1x4'\n",
    "    #n = '2x3'\n",
    "    #n = 'hist'\n",
    "    b = glob.glob(f'{path}/*{basin}**6.png')\n",
    "    b.sort()\n",
    "    make_gif(b, n)\n",
    "    \n",
    "    "
   ]
  },
  {
   "cell_type": "code",
   "execution_count": 66,
   "id": "2f398eb6",
   "metadata": {},
   "outputs": [],
   "source": [
    "def make_gif_all(frame_folder, n):\n",
    "    frames = [Image.open(image) for image in big]\n",
    "    frame_one = frames[0]\n",
    "    frame_one.save(os.path.join(out, f\"all_basins_{n}.gif\"), format=\"GIF\", append_images=frames,\n",
    "               save_all=True, duration=150, loop=0)\n",
    "#n = '1x3'\n",
    "#n = '1x4'\n",
    "#n = '2x3'\n",
    "n = 'hist'\n",
    "       \n",
    "big = glob.glob(f'{path}/*t.png')\n",
    "big.sort()\n",
    "#print(big)\n",
    "make_gif_all(big, n)"
   ]
  }
 ],
 "metadata": {
  "kernelspec": {
   "display_name": "Python 3 (ipykernel)",
   "language": "python",
   "name": "python3"
  },
  "language_info": {
   "codemirror_mode": {
    "name": "ipython",
    "version": 3
   },
   "file_extension": ".py",
   "mimetype": "text/x-python",
   "name": "python",
   "nbconvert_exporter": "python",
   "pygments_lexer": "ipython3",
   "version": "3.11.0"
  }
 },
 "nbformat": 4,
 "nbformat_minor": 5
}
